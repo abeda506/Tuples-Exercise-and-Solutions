{
 "cells": [
  {
   "cell_type": "markdown",
   "id": "900cdcb8",
   "metadata": {},
   "source": [
    "## Tuples Exercise"
   ]
  },
  {
   "cell_type": "markdown",
   "id": "b8e5cf38",
   "metadata": {},
   "source": [
    "1. Create first tuple to print the following string, integer, and float (Robert,Canada, 14, 8.5)"
   ]
  },
  {
   "cell_type": "code",
   "execution_count": null,
   "id": "a1bfa9f8",
   "metadata": {},
   "outputs": [],
   "source": []
  },
  {
   "cell_type": "markdown",
   "id": "7614c5bf",
   "metadata": {},
   "source": [
    "2. Print the type of the tuple"
   ]
  },
  {
   "cell_type": "code",
   "execution_count": null,
   "id": "7f0e3eb7",
   "metadata": {},
   "outputs": [],
   "source": []
  },
  {
   "cell_type": "markdown",
   "id": "ff787e68",
   "metadata": {},
   "source": [
    "3. Print the element on the 1st index in the tuple you created"
   ]
  },
  {
   "cell_type": "code",
   "execution_count": null,
   "id": "4964092c",
   "metadata": {},
   "outputs": [],
   "source": []
  },
  {
   "cell_type": "markdown",
   "id": "c1df0c3d",
   "metadata": {},
   "source": [
    "4. Find the length of tuple"
   ]
  },
  {
   "cell_type": "code",
   "execution_count": null,
   "id": "d18b70eb",
   "metadata": {},
   "outputs": [],
   "source": []
  },
  {
   "cell_type": "markdown",
   "id": "8b63030a",
   "metadata": {},
   "source": [
    "5. Print the last element in the tuple [use negative index] "
   ]
  },
  {
   "cell_type": "code",
   "execution_count": null,
   "id": "7fcc6c14",
   "metadata": {},
   "outputs": [],
   "source": []
  },
  {
   "cell_type": "markdown",
   "id": "aaa58385",
   "metadata": {},
   "source": [
    "6. Create a new tuple with tuple2 and print the following (Smith, 4)"
   ]
  },
  {
   "cell_type": "code",
   "execution_count": null,
   "id": "c6701538",
   "metadata": {},
   "outputs": [],
   "source": []
  },
  {
   "cell_type": "markdown",
   "id": "92627443",
   "metadata": {},
   "source": [
    "7. Concatenate both tuples you have created "
   ]
  },
  {
   "cell_type": "code",
   "execution_count": null,
   "id": "7cd8169e",
   "metadata": {},
   "outputs": [],
   "source": []
  },
  {
   "cell_type": "markdown",
   "id": "ac37c63f",
   "metadata": {},
   "source": [
    "### Congratulations, you nailed it!!"
   ]
  }
 ],
 "metadata": {
  "kernelspec": {
   "display_name": "Python 3 (ipykernel)",
   "language": "python",
   "name": "python3"
  },
  "language_info": {
   "codemirror_mode": {
    "name": "ipython",
    "version": 3
   },
   "file_extension": ".py",
   "mimetype": "text/x-python",
   "name": "python",
   "nbconvert_exporter": "python",
   "pygments_lexer": "ipython3",
   "version": "3.10.9"
  }
 },
 "nbformat": 4,
 "nbformat_minor": 5
}
