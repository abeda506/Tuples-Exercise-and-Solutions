{
 "cells": [
  {
   "cell_type": "markdown",
   "id": "0f4ffa9d",
   "metadata": {},
   "source": [
    "## Tuples Exercise"
   ]
  },
  {
   "cell_type": "markdown",
   "id": "5136820d",
   "metadata": {},
   "source": [
    "1. Create first tuple to print the following string, integer, and float (Robert,Canada, 14, 8.5)"
   ]
  },
  {
   "cell_type": "code",
   "execution_count": 2,
   "id": "b4ca4d7f",
   "metadata": {},
   "outputs": [],
   "source": [
    "tuple1 = (\"Robert\",\"Canada\",14,8.5)"
   ]
  },
  {
   "cell_type": "markdown",
   "id": "2faecef6",
   "metadata": {},
   "source": [
    "2. Print the type of the tuple"
   ]
  },
  {
   "cell_type": "code",
   "execution_count": 3,
   "id": "a1f2cb80",
   "metadata": {},
   "outputs": [
    {
     "name": "stdout",
     "output_type": "stream",
     "text": [
      "('Robert', 'Canada', 14, 8.5)\n"
     ]
    }
   ],
   "source": [
    "print(tuple1)"
   ]
  },
  {
   "cell_type": "markdown",
   "id": "f707103b",
   "metadata": {},
   "source": [
    "3. Print the element on the 1st index in the tuple you created"
   ]
  },
  {
   "cell_type": "code",
   "execution_count": 4,
   "id": "1306796a",
   "metadata": {},
   "outputs": [
    {
     "name": "stdout",
     "output_type": "stream",
     "text": [
      "Robert\n"
     ]
    }
   ],
   "source": [
    "print(tuple1[0])"
   ]
  },
  {
   "cell_type": "markdown",
   "id": "cfe4755c",
   "metadata": {},
   "source": [
    "4. Find the length of tuple"
   ]
  },
  {
   "cell_type": "code",
   "execution_count": 5,
   "id": "c0bf8296",
   "metadata": {},
   "outputs": [
    {
     "data": {
      "text/plain": [
       "4"
      ]
     },
     "execution_count": 5,
     "metadata": {},
     "output_type": "execute_result"
    }
   ],
   "source": [
    "len(tuple1)"
   ]
  },
  {
   "cell_type": "markdown",
   "id": "9ea9e91b",
   "metadata": {},
   "source": [
    "5. Print the last element in the tuple [use negative index] "
   ]
  },
  {
   "cell_type": "code",
   "execution_count": 6,
   "id": "4860d691",
   "metadata": {},
   "outputs": [
    {
     "name": "stdout",
     "output_type": "stream",
     "text": [
      "8.5\n"
     ]
    }
   ],
   "source": [
    "print(tuple1[-1])"
   ]
  },
  {
   "cell_type": "markdown",
   "id": "2f2b7546",
   "metadata": {},
   "source": [
    "6. Create a new tuple with tuple2 and print the following (Smith, 4)"
   ]
  },
  {
   "cell_type": "code",
   "execution_count": 8,
   "id": "27f68c67",
   "metadata": {},
   "outputs": [
    {
     "data": {
      "text/plain": [
       "('Smith', 4)"
      ]
     },
     "execution_count": 8,
     "metadata": {},
     "output_type": "execute_result"
    }
   ],
   "source": [
    "tuple2 = (\"Smith\",4)\n",
    "tuple2"
   ]
  },
  {
   "cell_type": "markdown",
   "id": "0e3b20d5",
   "metadata": {},
   "source": [
    "7. Concatenate both tuples you have created "
   ]
  },
  {
   "cell_type": "code",
   "execution_count": 11,
   "id": "8ec91b97",
   "metadata": {},
   "outputs": [
    {
     "data": {
      "text/plain": [
       "('Robert', 'Canada', 14, 8.5, 'Smith', 4)"
      ]
     },
     "execution_count": 11,
     "metadata": {},
     "output_type": "execute_result"
    }
   ],
   "source": [
    "tuple3 = tuple1 + (\"Smith\",4)\n",
    "tuple3"
   ]
  },
  {
   "cell_type": "markdown",
   "id": "8b5c0d82",
   "metadata": {},
   "source": [
    "### Congratulations, you nailed it!!"
   ]
  }
 ],
 "metadata": {
  "kernelspec": {
   "display_name": "Python 3 (ipykernel)",
   "language": "python",
   "name": "python3"
  },
  "language_info": {
   "codemirror_mode": {
    "name": "ipython",
    "version": 3
   },
   "file_extension": ".py",
   "mimetype": "text/x-python",
   "name": "python",
   "nbconvert_exporter": "python",
   "pygments_lexer": "ipython3",
   "version": "3.10.9"
  }
 },
 "nbformat": 4,
 "nbformat_minor": 5
}
